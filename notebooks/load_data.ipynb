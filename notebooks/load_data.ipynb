{
 "cells": [
  {
   "cell_type": "code",
   "execution_count": 1,
   "id": "5878e15e",
   "metadata": {},
   "outputs": [],
   "source": [
    "import pdal\n",
    "import pandas as pd\n",
    "import json\n",
    "import geopandas as gpd\n",
    "import pandas as pd\n",
    "from shapely.geometry import Polygon, Point, mapping\n",
    "import numpy as np\n",
    "from pyproj import Proj, transform\n",
    "import folium\n",
    "import laspy as lp\n",
    "import richdem as rd\n",
    "import rasterio\n",
    "import matplotlib.pyplot as plt\n",
    "from mpl_toolkits import mplot3d\n",
    "import sys\n",
    "import warnings\n",
    "import matplotlib.pyplot as plt\n",
    "warnings.filterwarnings(\"ignore\")"
   ]
  },
  {
   "cell_type": "code",
   "execution_count": 2,
   "id": "babec608",
   "metadata": {},
   "outputs": [],
   "source": [
    "#loading and reading json file\n",
    "def read_json(json_path):\n",
    "    try:\n",
    "        with open(json_path) as json_file:\n",
    "            data = json.load(json_file)\n",
    "            return data\n",
    "    except FileNotFoundError:\n",
    "        print(\"File not found\")\n",
    "        return None"
   ]
  },
  {
   "cell_type": "code",
   "execution_count": 3,
   "id": "23f5f500",
   "metadata": {},
   "outputs": [],
   "source": [
    "# Creating a function to change to the needed CRS format for better visualization\n",
    "\"\"\"        parameters\n",
    "    fromT: the original EPSG format\n",
    "    lon: the longitude value\n",
    "    lat: the latitude value\n",
    "\"\"\"\n",
    "def convert_EPSG(fromT, lon, lat):\n",
    "    P3857 = Proj(init='epsg:3857')\n",
    "    P4326 = Proj(init='epsg:4326')\n",
    "    if(fromT == 4326):\n",
    "        input1 = P4326\n",
    "        input2 = P3857\n",
    "    else:\n",
    "        input1=p3857\n",
    "        input2=p4326\n",
    "\n",
    "    x, y = transform(input1,input2, lon, lat)\n",
    "    return [x, y] \n",
    " #[x, y]: a list with new EPSG formatted values"
   ]
  },
  {
   "cell_type": "code",
   "execution_count": 4,
   "id": "be81cc75",
   "metadata": {},
   "outputs": [],
   "source": [
    "#A function to change format of a list of coordinates to a list of points\n",
    "\n",
    "def loop_EPSG_converter(listin):\n",
    "    converted = []\n",
    "    for item in listin:\n",
    "        converted.append(convert_EPSG(4326, item[0], item[1]))\n",
    "        \n",
    "    return converted"
   ]
  },
  {
   "cell_type": "code",
   "execution_count": 5,
   "id": "63229827",
   "metadata": {},
   "outputs": [],
   "source": [
    "def generate_polygon(coor, epsg):\n",
    "    polygon_g = Polygon(coor)\n",
    "    crs = {'init': 'epsg:'+str(epsg)}\n",
    "    polygon = gpd.GeoDataFrame(index=[0], crs=crs, geometry=[polygon_g])       \n",
    "    return polygon"
   ]
  },
  {
   "cell_type": "code",
   "execution_count": 6,
   "id": "99f38149",
   "metadata": {},
   "outputs": [],
   "source": [
    "#generating a dataframe given a CRS format and pipe\n",
    "def generate_geo_df(pipe, epsg):\n",
    "    try:\n",
    "        cloud_points = []\n",
    "        elevations =[]\n",
    "        geometry_points=[]\n",
    "        for row in pipe.arrays[0]:\n",
    "            lst = row.tolist()[-3:]\n",
    "            cloud_points.append(lst)\n",
    "            elevations.append(lst[2])\n",
    "            point = Point(lst[0], lst[1])\n",
    "            geometry_points.append(point)\n",
    "        geodf = gpd.GeoDataFrame(columns=[\"elevation\", \"geometry\"])\n",
    "        geodf['elevation'] = elevations\n",
    "        geodf['geometry'] = geometry_points\n",
    "        geodf = geodf.set_geometry(\"geometry\")\n",
    "        geodf.set_crs(epsg = epsg, inplace=True)\n",
    "        return geodf\n",
    "    except RuntimeError as e:\n",
    "        print(e)"
   ]
  },
  {
   "cell_type": "code",
   "execution_count": 7,
   "id": "334fde2e",
   "metadata": {},
   "outputs": [],
   "source": [
    "# Coordinates for the polygon and generating the polygon from the given co-ordinate\n",
    "\n",
    "coordinates = [\n",
    "    [-93.756055, 41.918115],\n",
    "    [-93.756155, 41.918215],\n",
    "    [-93.756396, 41.918475],\n",
    "    [-93.755955, 41.918300],\n",
    "    [-93.755795, 41.918000],\n",
    "]\n",
    "\n",
    "polygon = generate_polygon(coordinates, 4326)"
   ]
  },
  {
   "cell_type": "code",
   "execution_count": 8,
   "id": "2b5b9a15",
   "metadata": {
    "scrolled": true
   },
   "outputs": [
    {
     "data": {
      "text/html": [
       "<div style=\"width:100%;\"><div style=\"position:relative;width:100%;height:0;padding-bottom:60%;\"><span style=\"color:#565656\">Make this Notebook Trusted to load map: File -> Trust Notebook</span><iframe srcdoc=\"&lt;!DOCTYPE html&gt;\n",
       "&lt;head&gt;    \n",
       "    &lt;meta http-equiv=&quot;content-type&quot; content=&quot;text/html; charset=UTF-8&quot; /&gt;\n",
       "    \n",
       "        &lt;script&gt;\n",
       "            L_NO_TOUCH = false;\n",
       "            L_DISABLE_3D = false;\n",
       "        &lt;/script&gt;\n",
       "    \n",
       "    &lt;style&gt;html, body {width: 100%;height: 100%;margin: 0;padding: 0;}&lt;/style&gt;\n",
       "    &lt;style&gt;#map {position:absolute;top:0;bottom:0;right:0;left:0;}&lt;/style&gt;\n",
       "    &lt;script src=&quot;https://cdn.jsdelivr.net/npm/leaflet@1.6.0/dist/leaflet.js&quot;&gt;&lt;/script&gt;\n",
       "    &lt;script src=&quot;https://code.jquery.com/jquery-1.12.4.min.js&quot;&gt;&lt;/script&gt;\n",
       "    &lt;script src=&quot;https://maxcdn.bootstrapcdn.com/bootstrap/3.2.0/js/bootstrap.min.js&quot;&gt;&lt;/script&gt;\n",
       "    &lt;script src=&quot;https://cdnjs.cloudflare.com/ajax/libs/Leaflet.awesome-markers/2.0.2/leaflet.awesome-markers.js&quot;&gt;&lt;/script&gt;\n",
       "    &lt;link rel=&quot;stylesheet&quot; href=&quot;https://cdn.jsdelivr.net/npm/leaflet@1.6.0/dist/leaflet.css&quot;/&gt;\n",
       "    &lt;link rel=&quot;stylesheet&quot; href=&quot;https://maxcdn.bootstrapcdn.com/bootstrap/3.2.0/css/bootstrap.min.css&quot;/&gt;\n",
       "    &lt;link rel=&quot;stylesheet&quot; href=&quot;https://maxcdn.bootstrapcdn.com/bootstrap/3.2.0/css/bootstrap-theme.min.css&quot;/&gt;\n",
       "    &lt;link rel=&quot;stylesheet&quot; href=&quot;https://maxcdn.bootstrapcdn.com/font-awesome/4.6.3/css/font-awesome.min.css&quot;/&gt;\n",
       "    &lt;link rel=&quot;stylesheet&quot; href=&quot;https://cdnjs.cloudflare.com/ajax/libs/Leaflet.awesome-markers/2.0.2/leaflet.awesome-markers.css&quot;/&gt;\n",
       "    &lt;link rel=&quot;stylesheet&quot; href=&quot;https://cdn.jsdelivr.net/gh/python-visualization/folium/folium/templates/leaflet.awesome.rotate.min.css&quot;/&gt;\n",
       "    \n",
       "            &lt;meta name=&quot;viewport&quot; content=&quot;width=device-width,\n",
       "                initial-scale=1.0, maximum-scale=1.0, user-scalable=no&quot; /&gt;\n",
       "            &lt;style&gt;\n",
       "                #map_56edeb27c1ffe3bead0579292d196418 {\n",
       "                    position: relative;\n",
       "                    width: 100.0%;\n",
       "                    height: 100.0%;\n",
       "                    left: 0.0%;\n",
       "                    top: 0.0%;\n",
       "                }\n",
       "            &lt;/style&gt;\n",
       "        \n",
       "&lt;/head&gt;\n",
       "&lt;body&gt;    \n",
       "    \n",
       "            &lt;div class=&quot;folium-map&quot; id=&quot;map_56edeb27c1ffe3bead0579292d196418&quot; &gt;&lt;/div&gt;\n",
       "        \n",
       "&lt;/body&gt;\n",
       "&lt;script&gt;    \n",
       "    \n",
       "            var map_56edeb27c1ffe3bead0579292d196418 = L.map(\n",
       "                &quot;map_56edeb27c1ffe3bead0579292d196418&quot;,\n",
       "                {\n",
       "                    center: [41.918115, -93.756055],\n",
       "                    crs: L.CRS.EPSG3857,\n",
       "                    zoom: 20,\n",
       "                    zoomControl: true,\n",
       "                    preferCanvas: false,\n",
       "                }\n",
       "            );\n",
       "\n",
       "            \n",
       "\n",
       "        \n",
       "    \n",
       "            var tile_layer_36612089742370f0070fafb6e0326fb3 = L.tileLayer(\n",
       "                &quot;https://cartodb-basemaps-{s}.global.ssl.fastly.net/light_all/{z}/{x}/{y}.png&quot;,\n",
       "                {&quot;attribution&quot;: &quot;\\u0026copy; \\u003ca href=\\&quot;http://www.openstreetmap.org/copyright\\&quot;\\u003eOpenStreetMap\\u003c/a\\u003e contributors \\u0026copy; \\u003ca href=\\&quot;http://cartodb.com/attributions\\&quot;\\u003eCartoDB\\u003c/a\\u003e, CartoDB \\u003ca href =\\&quot;http://cartodb.com/attributions\\&quot;\\u003eattributions\\u003c/a\\u003e&quot;, &quot;detectRetina&quot;: false, &quot;maxNativeZoom&quot;: 18, &quot;maxZoom&quot;: 18, &quot;minZoom&quot;: 0, &quot;noWrap&quot;: false, &quot;opacity&quot;: 1, &quot;subdomains&quot;: &quot;abc&quot;, &quot;tms&quot;: false}\n",
       "            ).addTo(map_56edeb27c1ffe3bead0579292d196418);\n",
       "        \n",
       "    \n",
       "\n",
       "        function geo_json_1e54353338dd22166d7583371fb975c8_onEachFeature(feature, layer) {\n",
       "            layer.on({\n",
       "            });\n",
       "        };\n",
       "        var geo_json_1e54353338dd22166d7583371fb975c8 = L.geoJson(null, {\n",
       "                onEachFeature: geo_json_1e54353338dd22166d7583371fb975c8_onEachFeature,\n",
       "            \n",
       "        });\n",
       "\n",
       "        function geo_json_1e54353338dd22166d7583371fb975c8_add (data) {\n",
       "            geo_json_1e54353338dd22166d7583371fb975c8\n",
       "                .addData(data)\n",
       "                .addTo(map_56edeb27c1ffe3bead0579292d196418);\n",
       "        }\n",
       "            geo_json_1e54353338dd22166d7583371fb975c8_add({&quot;bbox&quot;: [-93.756396, 41.918, -93.755795, 41.918475], &quot;features&quot;: [{&quot;bbox&quot;: [-93.756396, 41.918, -93.755795, 41.918475], &quot;geometry&quot;: {&quot;coordinates&quot;: [[[-93.756055, 41.918115], [-93.756155, 41.918215], [-93.756396, 41.918475], [-93.755955, 41.9183], [-93.755795, 41.918], [-93.756055, 41.918115]]], &quot;type&quot;: &quot;Polygon&quot;}, &quot;id&quot;: &quot;0&quot;, &quot;properties&quot;: {}, &quot;type&quot;: &quot;Feature&quot;}], &quot;type&quot;: &quot;FeatureCollection&quot;});\n",
       "\n",
       "        \n",
       "    \n",
       "                var lat_lng_popup_4999374b874633688c4328dd1b0ff8fe = L.popup();\n",
       "                function latLngPop(e) {\n",
       "                    lat_lng_popup_4999374b874633688c4328dd1b0ff8fe\n",
       "                        .setLatLng(e.latlng)\n",
       "                        .setContent(&quot;Latitude: &quot; + e.latlng.lat.toFixed(4) +\n",
       "                                    &quot;&lt;br&gt;Longitude: &quot; + e.latlng.lng.toFixed(4))\n",
       "                        .openOn(map_56edeb27c1ffe3bead0579292d196418);\n",
       "                    }\n",
       "                map_56edeb27c1ffe3bead0579292d196418.on(&#x27;click&#x27;, latLngPop);\n",
       "            \n",
       "&lt;/script&gt;\" style=\"position:absolute;width:100%;height:100%;left:0;top:0;border:none !important;\" allowfullscreen webkitallowfullscreen mozallowfullscreen></iframe></div></div>"
      ],
      "text/plain": [
       "<folium.folium.Map at 0x2c864057550>"
      ]
     },
     "execution_count": 8,
     "metadata": {},
     "output_type": "execute_result"
    }
   ],
   "source": [
    "# A function to display the polygon on a map\n",
    "def show_on_map(polygon, zoom):\n",
    "    #region selection\n",
    "    poly = mapping((polygon.iloc[:,0][0]))\n",
    "    tmp = poly['coordinates'][0][0]\n",
    "    anchor = [tmp[1], tmp[0]]\n",
    "    map = folium.Map(anchor,zoom_start=zoom, tiles='cartodbpositron')\n",
    "    folium.GeoJson(polygon).add_to(map)\n",
    "    folium.LatLngPopup().add_to(map)\n",
    "    return map\n",
    "\n",
    "show_on_map(polygon, 20)"
   ]
  },
  {
   "cell_type": "code",
   "execution_count": 9,
   "id": "598e31d7",
   "metadata": {},
   "outputs": [
    {
     "name": "stdout",
     "output_type": "stream",
     "text": [
      "[[-10436876.301386151, 5148721.349314567], [-10436887.43333523, 5148736.309605352], [-10436914.26133251, 5148775.206471106], [-10436865.169437071, 5148749.025870951], [-10436847.358318545, 5148704.145009145]]\n"
     ]
    }
   ],
   "source": [
    "# Changing the co-ordinates of the polygon to the standard EPSG CRS format and generating a polgon\n",
    "\n",
    "coor = loop_EPSG_converter(coordinates)\n",
    "print(coor)\n",
    "polygon_standard = generate_polygon(coor, 4326)"
   ]
  },
  {
   "cell_type": "code",
   "execution_count": 10,
   "id": "b547f625",
   "metadata": {},
   "outputs": [
    {
     "name": "stdout",
     "output_type": "stream",
     "text": [
      "File not found\n"
     ]
    },
    {
     "ename": "TypeError",
     "evalue": "'NoneType' object is not subscriptable",
     "output_type": "error",
     "traceback": [
      "\u001b[1;31m---------------------------------------------------------------------------\u001b[0m",
      "\u001b[1;31mTypeError\u001b[0m                                 Traceback (most recent call last)",
      "Input \u001b[1;32mIn [10]\u001b[0m, in \u001b[0;36m<cell line: 18>\u001b[1;34m()\u001b[0m\n\u001b[0;32m     15\u001b[0m in_srs \u001b[38;5;241m=\u001b[39m \u001b[38;5;241m3857\u001b[39m\n\u001b[0;32m     16\u001b[0m out_srs \u001b[38;5;241m=\u001b[39m \u001b[38;5;241m4326\u001b[39m\n\u001b[1;32m---> 18\u001b[0m request \u001b[38;5;241m=\u001b[39m \u001b[43mmodify_pipe_json\u001b[49m\u001b[43m(\u001b[49m\u001b[43mlocation\u001b[49m\u001b[43m,\u001b[49m\u001b[43m \u001b[49m\u001b[43murl\u001b[49m\u001b[43m,\u001b[49m\u001b[43m \u001b[49m\u001b[43mregion\u001b[49m\u001b[43m,\u001b[49m\u001b[43m \u001b[49m\u001b[43min_srs\u001b[49m\u001b[43m,\u001b[49m\u001b[43m \u001b[49m\u001b[43mout_srs\u001b[49m\u001b[43m)\u001b[49m\n",
      "Input \u001b[1;32mIn [10]\u001b[0m, in \u001b[0;36mmodify_pipe_json\u001b[1;34m(json_loc, url, region, in_epsg, out_epsg)\u001b[0m\n\u001b[0;32m      3\u001b[0m \u001b[38;5;28;01mdef\u001b[39;00m \u001b[38;5;21mmodify_pipe_json\u001b[39m(json_loc, url, region, in_epsg, out_epsg):\n\u001b[0;32m      4\u001b[0m     dicti \u001b[38;5;241m=\u001b[39m read_json(json_loc)\n\u001b[1;32m----> 5\u001b[0m     \u001b[43mdicti\u001b[49m\u001b[43m[\u001b[49m\u001b[38;5;124;43m'\u001b[39;49m\u001b[38;5;124;43mpipeline\u001b[39;49m\u001b[38;5;124;43m'\u001b[39;49m\u001b[43m]\u001b[49m[\u001b[38;5;241m0\u001b[39m][\u001b[38;5;124m'\u001b[39m\u001b[38;5;124mpolygon\u001b[39m\u001b[38;5;124m'\u001b[39m] \u001b[38;5;241m=\u001b[39m \u001b[38;5;28mstr\u001b[39m(polygon_standard\u001b[38;5;241m.\u001b[39miloc[:,\u001b[38;5;241m0\u001b[39m][\u001b[38;5;241m0\u001b[39m])\n\u001b[0;32m      6\u001b[0m     dicti[\u001b[38;5;124m'\u001b[39m\u001b[38;5;124mpipeline\u001b[39m\u001b[38;5;124m'\u001b[39m][\u001b[38;5;241m0\u001b[39m][\u001b[38;5;124m'\u001b[39m\u001b[38;5;124mfilename\u001b[39m\u001b[38;5;124m'\u001b[39m] \u001b[38;5;241m=\u001b[39m \u001b[38;5;124mf\u001b[39m\u001b[38;5;124m\"\u001b[39m\u001b[38;5;132;01m{\u001b[39;00murl\u001b[38;5;132;01m}\u001b[39;00m\u001b[38;5;124m/\u001b[39m\u001b[38;5;132;01m{\u001b[39;00mregion\u001b[38;5;132;01m}\u001b[39;00m\u001b[38;5;124m/ept.json\u001b[39m\u001b[38;5;124m\"\u001b[39m\n\u001b[0;32m      7\u001b[0m     dicti[\u001b[38;5;124m'\u001b[39m\u001b[38;5;124mpipeline\u001b[39m\u001b[38;5;124m'\u001b[39m][\u001b[38;5;241m2\u001b[39m][\u001b[38;5;124m'\u001b[39m\u001b[38;5;124min_srs\u001b[39m\u001b[38;5;124m'\u001b[39m] \u001b[38;5;241m=\u001b[39m \u001b[38;5;124mf\u001b[39m\u001b[38;5;124m\"\u001b[39m\u001b[38;5;124mEPSG:\u001b[39m\u001b[38;5;132;01m{\u001b[39;00min_epsg\u001b[38;5;132;01m}\u001b[39;00m\u001b[38;5;124m\"\u001b[39m\n",
      "\u001b[1;31mTypeError\u001b[0m: 'NoneType' object is not subscriptable"
     ]
    }
   ],
   "source": [
    "# Modifying the already created json file to fetch the data\n",
    "\n",
    "def modify_pipe_json(json_loc, url, region, in_epsg, out_epsg):\n",
    "    dicti = read_json(json_loc)\n",
    "    dicti['pipeline'][0]['polygon'] = str(polygon_standard.iloc[:,0][0])\n",
    "    dicti['pipeline'][0]['filename'] = f\"{url}/{region}/ept.json\"\n",
    "    dicti['pipeline'][2]['in_srs'] = f\"EPSG:{in_epsg}\"\n",
    "    dicti['pipeline'][2]['out_srs'] = f\"EPSG:{out_epsg}\"\n",
    "    print(dicti)\n",
    "    return dicti\n",
    "    \n",
    "location = \"../iowa.json\"\n",
    "url = \"https://s3-us-west-2.amazonaws.com/usgs-lidar-public\"\n",
    "region = \"IA_FullState\"\n",
    "in_srs = 3857\n",
    "out_srs = 4326\n",
    "\n",
    "request = modify_pipe_json(location, url, region, in_srs, out_srs)"
   ]
  }
 ],
 "metadata": {
  "hide_input": false,
  "kernelspec": {
   "display_name": "Python 3 (ipykernel)",
   "language": "python",
   "name": "python3"
  },
  "language_info": {
   "codemirror_mode": {
    "name": "ipython",
    "version": 3
   },
   "file_extension": ".py",
   "mimetype": "text/x-python",
   "name": "python",
   "nbconvert_exporter": "python",
   "pygments_lexer": "ipython3",
   "version": "3.10.5"
  },
  "latex_envs": {
   "LaTeX_envs_menu_present": true,
   "autoclose": false,
   "autocomplete": true,
   "bibliofile": "biblio.bib",
   "cite_by": "apalike",
   "current_citInitial": 1,
   "eqLabelWithNumbers": true,
   "eqNumInitial": 1,
   "hotkeys": {
    "equation": "Ctrl-E",
    "itemize": "Ctrl-I"
   },
   "labels_anchors": false,
   "latex_user_defs": false,
   "report_style_numbering": false,
   "user_envs_cfg": false
  }
 },
 "nbformat": 4,
 "nbformat_minor": 5
}
