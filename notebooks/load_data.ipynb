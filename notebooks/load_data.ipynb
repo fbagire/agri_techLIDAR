{
 "cells": [
  {
   "cell_type": "code",
   "execution_count": 1,
   "id": "5878e15e",
   "metadata": {},
   "outputs": [],
   "source": [
    "import pdal\n",
    "import pandas as pd\n",
    "import json\n",
    "import geopandas as gpd\n",
    "import pandas as pd\n",
    "from shapely.geometry import Polygon, Point, mapping\n",
    "import numpy as np\n",
    "from pyproj import Proj, transform\n",
    "import folium\n",
    "import laspy as lp\n",
    "import richdem as rd\n",
    "import rasterio\n",
    "import matplotlib.pyplot as plt\n",
    "from mpl_toolkits import mplot3d\n",
    "import sys\n",
    "import warnings\n",
    "import matplotlib.pyplot as plt\n",
    "warnings.filterwarnings(\"ignore\")"
   ]
  },
  {
   "cell_type": "code",
   "execution_count": 16,
   "id": "babec608",
   "metadata": {},
   "outputs": [],
   "source": [
    "#loading and reading json file\n",
    "def read_json(json_path):\n",
    "    try:\n",
    "        with open(json_path) as json_file:\n",
    "            data = json.load(json_file)\n",
    "            return data\n",
    "    except FileNotFoundError:\n",
    "        print(\"File not found\")"
   ]
  },
  {
   "cell_type": "markdown",
   "id": "312483e2",
   "metadata": {},
   "source": [
    "A function to change to the needed CRS format for better visualization.\n",
    "Convert lon/lat (in degrees) to x/y native map projection coordinates (in meters).\n",
    "\n",
    "\n",
    "The most common global CRS(coordinate reference system) in latitude and longitude is WGS84\n",
    "(used by the GPS satellite navigation system) with the following CRS string \"+init=epsg:4326\" as identifier. This is what we shall use here"
   ]
  },
  {
   "cell_type": "code",
   "execution_count": 29,
   "id": "eec05fca",
   "metadata": {},
   "outputs": [],
   "source": [
    "def convert_EPSG(fromT, lon, lat):\n",
    "    \"\"\"parameters\n",
    "    fromT: the original EPSG format\n",
    "    lon: the longitude value\n",
    "    lat: the latitude value\n",
    "    \"\"\"\n",
    "    P4326 = Proj(init='epsg:4326')\n",
    "    P3857 = Proj(init='epsg:3857')\n",
    "    if fromT == 4326:\n",
    "        input1 = P4326\n",
    "        input2 = P3857\n",
    "    else:\n",
    "        input1 = p3857\n",
    "        input2 = p4326\n",
    "\n",
    "    x, y = transform(input1, input2, lon, lat)\n",
    "    return [x, y]"
   ]
  },
  {
   "cell_type": "code",
   "execution_count": 4,
   "id": "55e7776d",
   "metadata": {},
   "outputs": [],
   "source": [
    "#A function to change format of a list of coordinates to a list of points\n",
    "\n",
    "\n",
    "def loop_EPSG_converter(listin):\n",
    "    converted = []\n",
    "    for item in listin:\n",
    "        converted.append(convert_EPSG(4326, item[0], item[1]))\n",
    "\n",
    "    return converted"
   ]
  },
  {
   "cell_type": "code",
   "execution_count": 5,
   "id": "1b1bdd2e",
   "metadata": {},
   "outputs": [],
   "source": [
    "def generate_polygon(coor, epsg):\n",
    "    polygon_g = Polygon(coor)\n",
    "    crs = {'init': 'epsg:'+str(epsg)}\n",
    "    polygon = gpd.GeoDataFrame(index=[0], crs=crs, geometry=[polygon_g])       \n",
    "    return polygon"
   ]
  },
  {
   "cell_type": "code",
   "execution_count": 6,
   "id": "010a8bd1",
   "metadata": {},
   "outputs": [],
   "source": [
    "#generating a dataframe given a CRS format and pipe\n",
    "def generate_geo_df(pipe, epsg):\n",
    "    try:\n",
    "        cloud_points = []\n",
    "        elevations =[]\n",
    "        geometry_points=[]\n",
    "        for row in pipe.arrays[0]:\n",
    "            lst = row.tolist()[-3:]\n",
    "            cloud_points.append(lst)\n",
    "            elevations.append(lst[2])\n",
    "            point = Point(lst[0], lst[1])\n",
    "            geometry_points.append(point)\n",
    "        geodf = gpd.GeoDataFrame(columns=[\"elevation\", \"geometry\"])\n",
    "        geodf['elevation'] = elevations\n",
    "        geodf['geometry'] = geometry_points\n",
    "        geodf = geodf.set_geometry(\"geometry\")\n",
    "        geodf.set_crs(epsg = epsg, inplace=True)\n",
    "        return geodf\n",
    "    except RuntimeError as e:\n",
    "        print(e)"
   ]
  },
  {
   "cell_type": "code",
   "execution_count": 7,
   "id": "55b4e9a1",
   "metadata": {},
   "outputs": [],
   "source": [
    "# Coordinates for the polygon and generating the polygon from the given co-ordinate\n",
    "\n",
    "coordinates = [\n",
    "    [-93.756055, 41.918115],\n",
    "    [-93.756155, 41.918215],\n",
    "    [-93.756396, 41.918475],\n",
    "    [-93.755955, 41.918300],\n",
    "    [-93.755795, 41.918000],\n",
    "]\n",
    "\n",
    "polygon = generate_polygon(coordinates, 4326)"
   ]
  },
  {
   "cell_type": "code",
   "execution_count": 8,
   "id": "0c5a2821",
   "metadata": {},
   "outputs": [
    {
     "data": {
      "text/html": [
       "<div style=\"width:100%;\"><div style=\"position:relative;width:100%;height:0;padding-bottom:60%;\"><span style=\"color:#565656\">Make this Notebook Trusted to load map: File -> Trust Notebook</span><iframe srcdoc=\"&lt;!DOCTYPE html&gt;\n",
       "&lt;head&gt;    \n",
       "    &lt;meta http-equiv=&quot;content-type&quot; content=&quot;text/html; charset=UTF-8&quot; /&gt;\n",
       "    \n",
       "        &lt;script&gt;\n",
       "            L_NO_TOUCH = false;\n",
       "            L_DISABLE_3D = false;\n",
       "        &lt;/script&gt;\n",
       "    \n",
       "    &lt;style&gt;html, body {width: 100%;height: 100%;margin: 0;padding: 0;}&lt;/style&gt;\n",
       "    &lt;style&gt;#map {position:absolute;top:0;bottom:0;right:0;left:0;}&lt;/style&gt;\n",
       "    &lt;script src=&quot;https://cdn.jsdelivr.net/npm/leaflet@1.6.0/dist/leaflet.js&quot;&gt;&lt;/script&gt;\n",
       "    &lt;script src=&quot;https://code.jquery.com/jquery-1.12.4.min.js&quot;&gt;&lt;/script&gt;\n",
       "    &lt;script src=&quot;https://maxcdn.bootstrapcdn.com/bootstrap/3.2.0/js/bootstrap.min.js&quot;&gt;&lt;/script&gt;\n",
       "    &lt;script src=&quot;https://cdnjs.cloudflare.com/ajax/libs/Leaflet.awesome-markers/2.0.2/leaflet.awesome-markers.js&quot;&gt;&lt;/script&gt;\n",
       "    &lt;link rel=&quot;stylesheet&quot; href=&quot;https://cdn.jsdelivr.net/npm/leaflet@1.6.0/dist/leaflet.css&quot;/&gt;\n",
       "    &lt;link rel=&quot;stylesheet&quot; href=&quot;https://maxcdn.bootstrapcdn.com/bootstrap/3.2.0/css/bootstrap.min.css&quot;/&gt;\n",
       "    &lt;link rel=&quot;stylesheet&quot; href=&quot;https://maxcdn.bootstrapcdn.com/bootstrap/3.2.0/css/bootstrap-theme.min.css&quot;/&gt;\n",
       "    &lt;link rel=&quot;stylesheet&quot; href=&quot;https://maxcdn.bootstrapcdn.com/font-awesome/4.6.3/css/font-awesome.min.css&quot;/&gt;\n",
       "    &lt;link rel=&quot;stylesheet&quot; href=&quot;https://cdnjs.cloudflare.com/ajax/libs/Leaflet.awesome-markers/2.0.2/leaflet.awesome-markers.css&quot;/&gt;\n",
       "    &lt;link rel=&quot;stylesheet&quot; href=&quot;https://cdn.jsdelivr.net/gh/python-visualization/folium/folium/templates/leaflet.awesome.rotate.min.css&quot;/&gt;\n",
       "    \n",
       "            &lt;meta name=&quot;viewport&quot; content=&quot;width=device-width,\n",
       "                initial-scale=1.0, maximum-scale=1.0, user-scalable=no&quot; /&gt;\n",
       "            &lt;style&gt;\n",
       "                #map_9107c301ace72140e23eab9d50f77f21 {\n",
       "                    position: relative;\n",
       "                    width: 100.0%;\n",
       "                    height: 100.0%;\n",
       "                    left: 0.0%;\n",
       "                    top: 0.0%;\n",
       "                }\n",
       "            &lt;/style&gt;\n",
       "        \n",
       "&lt;/head&gt;\n",
       "&lt;body&gt;    \n",
       "    \n",
       "            &lt;div class=&quot;folium-map&quot; id=&quot;map_9107c301ace72140e23eab9d50f77f21&quot; &gt;&lt;/div&gt;\n",
       "        \n",
       "&lt;/body&gt;\n",
       "&lt;script&gt;    \n",
       "    \n",
       "            var map_9107c301ace72140e23eab9d50f77f21 = L.map(\n",
       "                &quot;map_9107c301ace72140e23eab9d50f77f21&quot;,\n",
       "                {\n",
       "                    center: [41.918115, -93.756055],\n",
       "                    crs: L.CRS.EPSG3857,\n",
       "                    zoom: 20,\n",
       "                    zoomControl: true,\n",
       "                    preferCanvas: false,\n",
       "                }\n",
       "            );\n",
       "\n",
       "            \n",
       "\n",
       "        \n",
       "    \n",
       "            var tile_layer_14d6fd7111a1180a2a67d5b55a694901 = L.tileLayer(\n",
       "                &quot;https://cartodb-basemaps-{s}.global.ssl.fastly.net/light_all/{z}/{x}/{y}.png&quot;,\n",
       "                {&quot;attribution&quot;: &quot;\\u0026copy; \\u003ca href=\\&quot;http://www.openstreetmap.org/copyright\\&quot;\\u003eOpenStreetMap\\u003c/a\\u003e contributors \\u0026copy; \\u003ca href=\\&quot;http://cartodb.com/attributions\\&quot;\\u003eCartoDB\\u003c/a\\u003e, CartoDB \\u003ca href =\\&quot;http://cartodb.com/attributions\\&quot;\\u003eattributions\\u003c/a\\u003e&quot;, &quot;detectRetina&quot;: false, &quot;maxNativeZoom&quot;: 18, &quot;maxZoom&quot;: 18, &quot;minZoom&quot;: 0, &quot;noWrap&quot;: false, &quot;opacity&quot;: 1, &quot;subdomains&quot;: &quot;abc&quot;, &quot;tms&quot;: false}\n",
       "            ).addTo(map_9107c301ace72140e23eab9d50f77f21);\n",
       "        \n",
       "    \n",
       "\n",
       "        function geo_json_919e101c276aaed7b56330abfbcf6614_onEachFeature(feature, layer) {\n",
       "            layer.on({\n",
       "            });\n",
       "        };\n",
       "        var geo_json_919e101c276aaed7b56330abfbcf6614 = L.geoJson(null, {\n",
       "                onEachFeature: geo_json_919e101c276aaed7b56330abfbcf6614_onEachFeature,\n",
       "            \n",
       "        });\n",
       "\n",
       "        function geo_json_919e101c276aaed7b56330abfbcf6614_add (data) {\n",
       "            geo_json_919e101c276aaed7b56330abfbcf6614\n",
       "                .addData(data)\n",
       "                .addTo(map_9107c301ace72140e23eab9d50f77f21);\n",
       "        }\n",
       "            geo_json_919e101c276aaed7b56330abfbcf6614_add({&quot;bbox&quot;: [-93.756396, 41.918, -93.755795, 41.918475], &quot;features&quot;: [{&quot;bbox&quot;: [-93.756396, 41.918, -93.755795, 41.918475], &quot;geometry&quot;: {&quot;coordinates&quot;: [[[-93.756055, 41.918115], [-93.756155, 41.918215], [-93.756396, 41.918475], [-93.755955, 41.9183], [-93.755795, 41.918], [-93.756055, 41.918115]]], &quot;type&quot;: &quot;Polygon&quot;}, &quot;id&quot;: &quot;0&quot;, &quot;properties&quot;: {}, &quot;type&quot;: &quot;Feature&quot;}], &quot;type&quot;: &quot;FeatureCollection&quot;});\n",
       "\n",
       "        \n",
       "    \n",
       "                var lat_lng_popup_c5d4336c741f24077e557e2e3f6e96ba = L.popup();\n",
       "                function latLngPop(e) {\n",
       "                    lat_lng_popup_c5d4336c741f24077e557e2e3f6e96ba\n",
       "                        .setLatLng(e.latlng)\n",
       "                        .setContent(&quot;Latitude: &quot; + e.latlng.lat.toFixed(4) +\n",
       "                                    &quot;&lt;br&gt;Longitude: &quot; + e.latlng.lng.toFixed(4))\n",
       "                        .openOn(map_9107c301ace72140e23eab9d50f77f21);\n",
       "                    }\n",
       "                map_9107c301ace72140e23eab9d50f77f21.on(&#x27;click&#x27;, latLngPop);\n",
       "            \n",
       "&lt;/script&gt;\" style=\"position:absolute;width:100%;height:100%;left:0;top:0;border:none !important;\" allowfullscreen webkitallowfullscreen mozallowfullscreen></iframe></div></div>"
      ],
      "text/plain": [
       "<folium.folium.Map at 0x28ec7cecf40>"
      ]
     },
     "execution_count": 8,
     "metadata": {},
     "output_type": "execute_result"
    }
   ],
   "source": [
    "# A function to display the polygon on a map\n",
    "def show_on_map(polygon, zoom):\n",
    "    #region selection\n",
    "    poly = mapping((polygon.iloc[:,0][0]))\n",
    "    tmp = poly['coordinates'][0][0]\n",
    "    anchor = [tmp[1], tmp[0]]\n",
    "    map = folium.Map(anchor,zoom_start=zoom, tiles='cartodbpositron')\n",
    "    folium.GeoJson(polygon).add_to(map)\n",
    "    folium.LatLngPopup().add_to(map)\n",
    "    return map\n",
    "\n",
    "show_on_map(polygon, 20)"
   ]
  },
  {
   "cell_type": "code",
   "execution_count": 9,
   "id": "58906585",
   "metadata": {},
   "outputs": [
    {
     "name": "stdout",
     "output_type": "stream",
     "text": [
      "[[-10436876.301386151, 5148721.349314567], [-10436887.43333523, 5148736.309605352], [-10436914.26133251, 5148775.206471106], [-10436865.169437071, 5148749.025870951], [-10436847.358318545, 5148704.145009145]]\n"
     ]
    }
   ],
   "source": [
    "# Changing the co-ordinates of the polygon to the standard EPSG CRS format and generating a polgon\n",
    "\n",
    "coor = loop_EPSG_converter(coordinates)\n",
    "print(coor)\n",
    "polygon_standard = generate_polygon(coor, 4326)"
   ]
  },
  {
   "cell_type": "code",
   "execution_count": 10,
   "id": "9a2e6981",
   "metadata": {},
   "outputs": [
    {
     "name": "stdout",
     "output_type": "stream",
     "text": [
      "{'pipeline': [{'polygon': 'POLYGON ((-10436876.301386151 5148721.349314567, -10436887.43333523 5148736.309605352, -10436914.26133251 5148775.206471106, -10436865.169437071 5148749.025870951, -10436847.358318545 5148704.145009145, -10436876.301386151 5148721.349314567))', 'filename': 'https://s3-us-west-2.amazonaws.com/usgs-lidar-public/IA_FullState/ept.json', 'type': 'readers.ept', 'tag': 'readdata'}, {'type': 'filters.range', 'limits': 'Classification![7:7]', 'tag': 'no_noise'}, {'in_srs': 'EPSG:3857', 'out_srs': 'EPSG:4326', 'tag': 'reprojectUTM', 'type': 'filters.reprojection'}, {'filename': 'iowa.csv', 'tag': 'writerscsv', 'type': 'writers.text'}, {'filename': 'iowa.las', 'tag': 'writersply', 'type': 'writers.las'}]}\n"
     ]
    }
   ],
   "source": [
    "# Modifying the already created json file to fetch the data\n",
    "\n",
    "\n",
    "def modify_pipe_json(json_loc, url, region, in_epsg, out_epsg):\n",
    "    dicti = read_json(json_loc)\n",
    "    dicti['pipeline'][0]['polygon'] = str(polygon_standard.iloc[:, 0][0])\n",
    "    dicti['pipeline'][0]['filename'] = f\"{url}/{region}/ept.json\"\n",
    "    dicti['pipeline'][2]['in_srs'] = f\"EPSG:{in_epsg}\"\n",
    "    dicti['pipeline'][2]['out_srs'] = f\"EPSG:{out_epsg}\"\n",
    "    print(dicti)\n",
    "    return dicti\n",
    "\n",
    "\n",
    "location = \"../pipe.json\"\n",
    "url = \"https://s3-us-west-2.amazonaws.com/usgs-lidar-public\"\n",
    "region = \"IA_FullState\"\n",
    "in_srs = 3857\n",
    "out_srs = 4326\n",
    "\n",
    "request = modify_pipe_json(location, url, region, in_srs, out_srs)"
   ]
  },
  {
   "cell_type": "code",
   "execution_count": 11,
   "id": "b605ef20",
   "metadata": {},
   "outputs": [],
   "source": [
    "# Creatng the pipe\n",
    "pipe = pdal.Pipeline(json.dumps(request))"
   ]
  },
  {
   "cell_type": "code",
   "execution_count": 12,
   "id": "8a7794b7",
   "metadata": {},
   "outputs": [
    {
     "data": {
      "text/plain": [
       "1371"
      ]
     },
     "execution_count": 12,
     "metadata": {},
     "output_type": "execute_result"
    }
   ],
   "source": [
    "pipe.execute()"
   ]
  },
  {
   "cell_type": "code",
   "execution_count": 13,
   "id": "a8e8f847",
   "metadata": {},
   "outputs": [],
   "source": [
    "# Generating the dataframe from the pipeline\n",
    "df = generate_geo_df(pipe, 4326)"
   ]
  },
  {
   "cell_type": "code",
   "execution_count": 14,
   "id": "63afd0e5",
   "metadata": {},
   "outputs": [
    {
     "data": {
      "text/html": [
       "<div>\n",
       "<style scoped>\n",
       "    .dataframe tbody tr th:only-of-type {\n",
       "        vertical-align: middle;\n",
       "    }\n",
       "\n",
       "    .dataframe tbody tr th {\n",
       "        vertical-align: top;\n",
       "    }\n",
       "\n",
       "    .dataframe thead th {\n",
       "        text-align: right;\n",
       "    }\n",
       "</style>\n",
       "<table border=\"1\" class=\"dataframe\">\n",
       "  <thead>\n",
       "    <tr style=\"text-align: right;\">\n",
       "      <th></th>\n",
       "      <th>elevation</th>\n",
       "      <th>geometry</th>\n",
       "    </tr>\n",
       "  </thead>\n",
       "  <tbody>\n",
       "    <tr>\n",
       "      <th>0</th>\n",
       "      <td>310.53</td>\n",
       "      <td>POINT (-93.75586 41.91805)</td>\n",
       "    </tr>\n",
       "    <tr>\n",
       "      <th>1</th>\n",
       "      <td>310.41</td>\n",
       "      <td>POINT (-93.75606 41.91834)</td>\n",
       "    </tr>\n",
       "    <tr>\n",
       "      <th>2</th>\n",
       "      <td>310.61</td>\n",
       "      <td>POINT (-93.75627 41.91834)</td>\n",
       "    </tr>\n",
       "    <tr>\n",
       "      <th>3</th>\n",
       "      <td>310.53</td>\n",
       "      <td>POINT (-93.75606 41.91819)</td>\n",
       "    </tr>\n",
       "    <tr>\n",
       "      <th>4</th>\n",
       "      <td>310.37</td>\n",
       "      <td>POINT (-93.75581 41.91802)</td>\n",
       "    </tr>\n",
       "  </tbody>\n",
       "</table>\n",
       "</div>"
      ],
      "text/plain": [
       "   elevation                    geometry\n",
       "0     310.53  POINT (-93.75586 41.91805)\n",
       "1     310.41  POINT (-93.75606 41.91834)\n",
       "2     310.61  POINT (-93.75627 41.91834)\n",
       "3     310.53  POINT (-93.75606 41.91819)\n",
       "4     310.37  POINT (-93.75581 41.91802)"
      ]
     },
     "execution_count": 14,
     "metadata": {},
     "output_type": "execute_result"
    }
   ],
   "source": [
    "df.head()"
   ]
  },
  {
   "cell_type": "code",
   "execution_count": 15,
   "id": "84b05f4d",
   "metadata": {},
   "outputs": [
    {
     "data": {
      "text/plain": [
       "Text(71.94451152042303, 0.5, 'Latitude')"
      ]
     },
     "execution_count": 15,
     "metadata": {},
     "output_type": "execute_result"
    },
    {
     "data": {
      "image/png": "[encoded data removed]",
      "text/plain": [
       "<Figure size 432x288 with 1 Axes>"
      ]
     },
     "metadata": {
      "needs_background": "light"
     },
     "output_type": "display_data"
    }
   ],
   "source": [
    "#plotting the elevation graph\n",
    "df.plot(c='elevation', cmap='terrain')\n",
    "plt.title('Terrain Elevation') \n",
    "plt.xlabel('Longitude')\n",
    "plt.ylabel('Latitude')"
   ]
  }
 ],
 "metadata": {
  "hide_input": false,
  "kernelspec": {
   "display_name": "Python 3 (ipykernel)",
   "language": "python",
   "name": "python3"
  },
  "language_info": {
   "codemirror_mode": {
    "name": "ipython",
    "version": 3
   },
   "file_extension": ".py",
   "mimetype": "text/x-python",
   "name": "python",
   "nbconvert_exporter": "python",
   "pygments_lexer": "ipython3",
   "version": "3.10.5"
  },
  "latex_envs": {
   "LaTeX_envs_menu_present": true,
   "autoclose": false,
   "autocomplete": true,
   "bibliofile": "biblio.bib",
   "cite_by": "apalike",
   "current_citInitial": 1,
   "eqLabelWithNumbers": true,
   "eqNumInitial": 1,
   "hotkeys": {
    "equation": "Ctrl-E",
    "itemize": "Ctrl-I"
   },
   "labels_anchors": false,
   "latex_user_defs": false,
   "report_style_numbering": false,
   "user_envs_cfg": false
  }
 },
 "nbformat": 4,
 "nbformat_minor": 5
}
