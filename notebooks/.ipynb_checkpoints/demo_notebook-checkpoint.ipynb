{
 "cells": [
  {
   "cell_type": "code",
   "execution_count": null,
   "id": "57bf67e6",
   "metadata": {},
   "outputs": [],
   "source": [
    "import sys\n",
    "import os\n",
    "import importlib\n",
    "sys.path.append(os.path.abspath(os.path.join('../scripts/')))"
   ]
  },
  {
   "cell_type": "code",
   "execution_count": null,
   "id": "8e8ae05b",
   "metadata": {},
   "outputs": [],
   "source": [
    "import tools"
   ]
  },
  {
   "cell_type": "code",
   "execution_count": null,
   "id": "1bbd101c",
   "metadata": {},
   "outputs": [],
   "source": [
    "import makedfs"
   ]
  },
  {
   "cell_type": "code",
   "execution_count": null,
   "id": "df20d096",
   "metadata": {},
   "outputs": [],
   "source": [
    "importlib.reload(tools);\n",
    "importlib.reload(makedfs);"
   ]
  },
  {
   "cell_type": "code",
   "execution_count": null,
   "id": "ca444d70",
   "metadata": {},
   "outputs": [],
   "source": [
    "tools = tools.Util()\n",
    "prepdf = makedfs.Pypoint()\n",
    "\n",
    "# import data\n",
    "pipeline_path = \"../pipe.json\"\n",
    "metadata_path = \"../data/metadata.json\"\n",
    "save_path = \"../data\""
   ]
  },
  {
   "cell_type": "markdown",
   "id": "61bdf77c",
   "metadata": {},
   "source": [
    "#### Select region to analyze and provide cooridinates below"
   ]
  },
  {
   "cell_type": "markdown",
   "id": "6d3020fe",
   "metadata": {},
   "source": [
    "transform the 3857 format to lat/long format using the link to converter below\n",
    "\n",
    "https://epsg.io/transform#s_srs=3857&t_srs=4326\n",
    "    \n",
    "to select region, you can visualize the map here\n",
    "\n",
    "https://epsg.io/map#srs=4326&x=-93.864003&y=41.951945&z=11&layer=satellite"
   ]
  },
  {
   "cell_type": "code",
   "execution_count": null,
   "id": "7a04a3d6",
   "metadata": {},
   "outputs": [],
   "source": [
    "coordinates = [[-113.6973, 42.0732], [-113.7001, 42.0712],\n",
    "               [-113.6996, 42.0701], [-113.6982, 42.0715]]"
   ]
  },
  {
   "cell_type": "code",
   "execution_count": null,
   "id": "83705d22",
   "metadata": {},
   "outputs": [],
   "source": [
    "# Generate the polygon with the above defined points\n",
    "\n",
    "polygon2 = tools.generate_polygon(coordinates, 4326)\n",
    "# Looking at the region selected by the polygon\n",
    "\n",
    "tools.show_on_map(polygon2, 15)"
   ]
  },
  {
   "cell_type": "code",
   "execution_count": null,
   "id": "930983e7",
   "metadata": {},
   "outputs": [],
   "source": [
    "# Loading the points\n",
    "\n",
    "data_df = prepdf.fetch_data(coordinates, metadata_path, save_path+\"/original.csv\", pipeline_path)"
   ]
  },
  {
   "cell_type": "code",
   "execution_count": null,
   "id": "bad425ca",
   "metadata": {},
   "outputs": [],
   "source": [
    "# Creating the geo dataframe out of the loaded point clouds.\n",
    "\n",
    "geo_df = data_df.loc[0,\"data\"]"
   ]
  },
  {
   "cell_type": "code",
   "execution_count": null,
   "id": "02cd4b21",
   "metadata": {},
   "outputs": [],
   "source": [
    "# Heat map of the loaded maps\n",
    "\n",
    "prepdf.plot_heatmap(geo_df, \"City of Rocks\", save_path+\"/image1.png\")"
   ]
  },
  {
   "cell_type": "code",
   "execution_count": null,
   "id": "c242e171",
   "metadata": {},
   "outputs": [],
   "source": [
    "# 3d render of the loaded points\n",
    "\n",
    "prepdf.render_3d(geo_df, \"City of Rocks\", save_path+\"/image1_3d.png\")"
   ]
  },
  {
   "cell_type": "markdown",
   "id": "43c17e43",
   "metadata": {},
   "source": [
    "### Resampling"
   ]
  },
  {
   "cell_type": "code",
   "execution_count": null,
   "id": "f19f1731",
   "metadata": {},
   "outputs": [],
   "source": [
    "# resampling and creating new dataframes using grid sampling\n",
    "gr_df = prepdf.grid_resample(geo_df, 0.001)"
   ]
  },
  {
   "cell_type": "code",
   "execution_count": null,
   "id": "e1612276",
   "metadata": {},
   "outputs": [],
   "source": [
    "# checking the new shape\n",
    "gr_df.shape\n",
    "(6053, 2)"
   ]
  },
  {
   "cell_type": "code",
   "execution_count": null,
   "id": "2799cb49",
   "metadata": {
    "scrolled": false
   },
   "outputs": [],
   "source": [
    "# ploting the new points\n",
    "\n",
    "prepdf.plot_heatmap(gr_df, \"infrastructure\", save_path+\"/image2.png\")"
   ]
  },
  {
   "cell_type": "code",
   "execution_count": null,
   "id": "56b913d6",
   "metadata": {
    "scrolled": false
   },
   "outputs": [],
   "source": [
    "prepdf.render_3d(gr_df, \"infrastructure\", save_path+\"/image2_3d.png\")"
   ]
  },
  {
   "cell_type": "markdown",
   "id": "2601bffa",
   "metadata": {},
   "source": [
    "### Calculating TWI"
   ]
  },
  {
   "cell_type": "code",
   "execution_count": null,
   "id": "05d7f56e",
   "metadata": {},
   "outputs": [],
   "source": [
    "# calculating Topographic Wetness Index.\n",
    "\n",
    "full_df = prepdf.calculate_TWI(geo_df, 0.0001, save_slope=save_path+\"/slope1.png\", save_accum=save_path+\"/accum1.png\")"
   ]
  },
  {
   "cell_type": "code",
   "execution_count": null,
   "id": "b244e4cb",
   "metadata": {},
   "outputs": [],
   "source": [
    "# checking whether the calculated TWI result is present \n",
    "\n",
    "full_df.head(10)"
   ]
  }
 ],
 "metadata": {
  "hide_input": false,
  "kernelspec": {
   "display_name": "Python 3 (ipykernel)",
   "language": "python",
   "name": "python3"
  },
  "language_info": {
   "codemirror_mode": {
    "name": "ipython",
    "version": 3
   },
   "file_extension": ".py",
   "mimetype": "text/x-python",
   "name": "python",
   "nbconvert_exporter": "python",
   "pygments_lexer": "ipython3",
   "version": "3.10.5"
  },
  "latex_envs": {
   "LaTeX_envs_menu_present": true,
   "autoclose": false,
   "autocomplete": true,
   "bibliofile": "biblio.bib",
   "cite_by": "apalike",
   "current_citInitial": 1,
   "eqLabelWithNumbers": true,
   "eqNumInitial": 1,
   "hotkeys": {
    "equation": "Ctrl-E",
    "itemize": "Ctrl-I"
   },
   "labels_anchors": false,
   "latex_user_defs": false,
   "report_style_numbering": false,
   "user_envs_cfg": false
  }
 },
 "nbformat": 4,
 "nbformat_minor": 5
}
