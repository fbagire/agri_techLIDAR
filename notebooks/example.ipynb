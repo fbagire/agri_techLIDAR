{
 "cells": [
  {
   "cell_type": "code",
   "execution_count": 17,
   "id": "ef8e5318",
   "metadata": {},
   "outputs": [],
   "source": [
    "import sys\n",
    "import os\n",
    "import importlib\n",
    "sys.path.append(os.path.abspath(os.path.join('../scripts/')))"
   ]
  },
  {
   "cell_type": "code",
   "execution_count": null,
   "id": "7cadf422",
   "metadata": {},
   "outputs": [],
   "source": []
  },
  {
   "cell_type": "code",
   "execution_count": 20,
   "id": "cfc5ef6a",
   "metadata": {},
   "outputs": [],
   "source": [
    "import util"
   ]
  },
  {
   "cell_type": "code",
   "execution_count": 22,
   "id": "b4e379d5",
   "metadata": {},
   "outputs": [],
   "source": [
    "import pypoint"
   ]
  },
  {
   "cell_type": "code",
   "execution_count": 23,
   "id": "6aca09d6",
   "metadata": {},
   "outputs": [
    {
     "data": {
      "text/plain": [
       "<module 'pypoint' from 'C:\\\\Users\\\\Faith Bagire\\\\PycharmProjects\\\\pythonProject2\\\\agri_techLIDAR\\\\scripts\\\\pypoint.py'>"
      ]
     },
     "execution_count": 23,
     "metadata": {},
     "output_type": "execute_result"
    }
   ],
   "source": [
    "importlib.reload(util)\n",
    "importlib.reload(pypoint)"
   ]
  },
  {
   "cell_type": "code",
   "execution_count": 24,
   "id": "9d1bce66",
   "metadata": {},
   "outputs": [],
   "source": [
    "Ut = util.Util()\n",
    "Pp = pypoint.Pypoint()\n",
    "\n",
    "# import data\n",
    "pipeline_path = \"../pipe.json\"\n",
    "# metadata_path = \"../data/metadata.json\"\n",
    "save_path = \"../data\""
   ]
  },
  {
   "cell_type": "code",
   "execution_count": 25,
   "id": "88203480",
   "metadata": {},
   "outputs": [],
   "source": [
    "# Defining polygon points\n",
    "\n",
    "coordinates = [\n",
    "    [-93.805955, 41.911415],\n",
    "    [-93.800755, 41.912215],\n",
    "    [-93.800196, 41.909975],\n",
    "    [-93.802755, 41.907400],\n",
    "    [-93.806395, 41.907600],\n",
    "]"
   ]
  },
  {
   "cell_type": "code",
   "execution_count": 26,
   "id": "03a42723",
   "metadata": {},
   "outputs": [],
   "source": [
    "# import geopandas"
   ]
  },
  {
   "cell_type": "code",
   "execution_count": 27,
   "id": "4d5fafca",
   "metadata": {},
   "outputs": [
    {
     "data": {
      "text/html": [
       "<iframe srcdoc=\"&lt;!DOCTYPE html&gt;\n",
       "&lt;head&gt;    \n",
       "    &lt;meta http-equiv=&quot;content-type&quot; content=&quot;text/html; charset=UTF-8&quot; /&gt;\n",
       "    \n",
       "        &lt;script&gt;\n",
       "            L_NO_TOUCH = false;\n",
       "            L_DISABLE_3D = false;\n",
       "        &lt;/script&gt;\n",
       "    \n",
       "    &lt;style&gt;html, body {width: 100%;height: 100%;margin: 0;padding: 0;}&lt;/style&gt;\n",
       "    &lt;style&gt;#map {position:absolute;top:0;bottom:0;right:0;left:0;}&lt;/style&gt;\n",
       "    &lt;script src=&quot;https://cdn.jsdelivr.net/npm/leaflet@1.6.0/dist/leaflet.js&quot;&gt;&lt;/script&gt;\n",
       "    &lt;script src=&quot;https://code.jquery.com/jquery-1.12.4.min.js&quot;&gt;&lt;/script&gt;\n",
       "    &lt;script src=&quot;https://maxcdn.bootstrapcdn.com/bootstrap/3.2.0/js/bootstrap.min.js&quot;&gt;&lt;/script&gt;\n",
       "    &lt;script src=&quot;https://cdnjs.cloudflare.com/ajax/libs/Leaflet.awesome-markers/2.0.2/leaflet.awesome-markers.js&quot;&gt;&lt;/script&gt;\n",
       "    &lt;link rel=&quot;stylesheet&quot; href=&quot;https://cdn.jsdelivr.net/npm/leaflet@1.6.0/dist/leaflet.css&quot;/&gt;\n",
       "    &lt;link rel=&quot;stylesheet&quot; href=&quot;https://maxcdn.bootstrapcdn.com/bootstrap/3.2.0/css/bootstrap.min.css&quot;/&gt;\n",
       "    &lt;link rel=&quot;stylesheet&quot; href=&quot;https://maxcdn.bootstrapcdn.com/bootstrap/3.2.0/css/bootstrap-theme.min.css&quot;/&gt;\n",
       "    &lt;link rel=&quot;stylesheet&quot; href=&quot;https://maxcdn.bootstrapcdn.com/font-awesome/4.6.3/css/font-awesome.min.css&quot;/&gt;\n",
       "    &lt;link rel=&quot;stylesheet&quot; href=&quot;https://cdnjs.cloudflare.com/ajax/libs/Leaflet.awesome-markers/2.0.2/leaflet.awesome-markers.css&quot;/&gt;\n",
       "    &lt;link rel=&quot;stylesheet&quot; href=&quot;https://cdn.jsdelivr.net/gh/python-visualization/folium/folium/templates/leaflet.awesome.rotate.min.css&quot;/&gt;\n",
       "    \n",
       "            &lt;meta name=&quot;viewport&quot; content=&quot;width=device-width,\n",
       "                initial-scale=1.0, maximum-scale=1.0, user-scalable=no&quot; /&gt;\n",
       "            &lt;style&gt;\n",
       "                #map_dd654b5521bdcfede4c0ac807e39bf2d {\n",
       "                    position: relative;\n",
       "                    width: 100.0%;\n",
       "                    height: 100.0%;\n",
       "                    left: 0.0%;\n",
       "                    top: 0.0%;\n",
       "                }\n",
       "            &lt;/style&gt;\n",
       "        \n",
       "&lt;/head&gt;\n",
       "&lt;body&gt;    \n",
       "    \n",
       "            &lt;div class=&quot;folium-map&quot; id=&quot;map_dd654b5521bdcfede4c0ac807e39bf2d&quot; &gt;&lt;/div&gt;\n",
       "        \n",
       "&lt;/body&gt;\n",
       "&lt;script&gt;    \n",
       "    \n",
       "            var map_dd654b5521bdcfede4c0ac807e39bf2d = L.map(\n",
       "                &quot;map_dd654b5521bdcfede4c0ac807e39bf2d&quot;,\n",
       "                {\n",
       "                    center: [41.911415, -93.805955],\n",
       "                    crs: L.CRS.EPSG3857,\n",
       "                    zoom: 15,\n",
       "                    zoomControl: true,\n",
       "                    preferCanvas: false,\n",
       "                }\n",
       "            );\n",
       "\n",
       "            \n",
       "\n",
       "        \n",
       "    \n",
       "            var tile_layer_dd1f84df1af9bee8deab2f5b6a365b4f = L.tileLayer(\n",
       "                &quot;https://cartodb-basemaps-{s}.global.ssl.fastly.net/light_all/{z}/{x}/{y}.png&quot;,\n",
       "                {&quot;attribution&quot;: &quot;\\u0026copy; \\u003ca href=\\&quot;http://www.openstreetmap.org/copyright\\&quot;\\u003eOpenStreetMap\\u003c/a\\u003e contributors \\u0026copy; \\u003ca href=\\&quot;http://cartodb.com/attributions\\&quot;\\u003eCartoDB\\u003c/a\\u003e, CartoDB \\u003ca href =\\&quot;http://cartodb.com/attributions\\&quot;\\u003eattributions\\u003c/a\\u003e&quot;, &quot;detectRetina&quot;: false, &quot;maxNativeZoom&quot;: 18, &quot;maxZoom&quot;: 18, &quot;minZoom&quot;: 0, &quot;noWrap&quot;: false, &quot;opacity&quot;: 1, &quot;subdomains&quot;: &quot;abc&quot;, &quot;tms&quot;: false}\n",
       "            ).addTo(map_dd654b5521bdcfede4c0ac807e39bf2d);\n",
       "        \n",
       "    \n",
       "\n",
       "        function geo_json_192e422a63899f1bb8bf6d8d29f44b6b_onEachFeature(feature, layer) {\n",
       "            layer.on({\n",
       "            });\n",
       "        };\n",
       "        var geo_json_192e422a63899f1bb8bf6d8d29f44b6b = L.geoJson(null, {\n",
       "                onEachFeature: geo_json_192e422a63899f1bb8bf6d8d29f44b6b_onEachFeature,\n",
       "            \n",
       "        });\n",
       "\n",
       "        function geo_json_192e422a63899f1bb8bf6d8d29f44b6b_add (data) {\n",
       "            geo_json_192e422a63899f1bb8bf6d8d29f44b6b\n",
       "                .addData(data)\n",
       "                .addTo(map_dd654b5521bdcfede4c0ac807e39bf2d);\n",
       "        }\n",
       "            geo_json_192e422a63899f1bb8bf6d8d29f44b6b_add({&quot;bbox&quot;: [-93.806395, 41.9074, -93.800196, 41.912215], &quot;features&quot;: [{&quot;bbox&quot;: [-93.806395, 41.9074, -93.800196, 41.912215], &quot;geometry&quot;: {&quot;coordinates&quot;: [[[-93.805955, 41.911415], [-93.800755, 41.912215], [-93.800196, 41.909975], [-93.802755, 41.9074], [-93.806395, 41.9076], [-93.805955, 41.911415]]], &quot;type&quot;: &quot;Polygon&quot;}, &quot;id&quot;: &quot;0&quot;, &quot;properties&quot;: {}, &quot;type&quot;: &quot;Feature&quot;}], &quot;type&quot;: &quot;FeatureCollection&quot;});\n",
       "\n",
       "        \n",
       "    \n",
       "                var lat_lng_popup_d5577eaf26dd9939888332157686970d = L.popup();\n",
       "                function latLngPop(e) {\n",
       "                    lat_lng_popup_d5577eaf26dd9939888332157686970d\n",
       "                        .setLatLng(e.latlng)\n",
       "                        .setContent(&quot;Latitude: &quot; + e.latlng.lat.toFixed(4) +\n",
       "                                    &quot;&lt;br&gt;Longitude: &quot; + e.latlng.lng.toFixed(4))\n",
       "                        .openOn(map_dd654b5521bdcfede4c0ac807e39bf2d);\n",
       "                    }\n",
       "                map_dd654b5521bdcfede4c0ac807e39bf2d.on(&#x27;click&#x27;, latLngPop);\n",
       "            \n",
       "&lt;/script&gt;\" width=\"600\" height=\"400\"style=\"border:none !important;\" \"allowfullscreen\" \"webkitallowfullscreen\" \"mozallowfullscreen\"></iframe>"
      ],
      "text/plain": [
       "<branca.element.Figure at 0x1f576101780>"
      ]
     },
     "execution_count": 27,
     "metadata": {},
     "output_type": "execute_result"
    }
   ],
   "source": [
    "# Generate the polygon with the above defined points\n",
    "\n",
    "polygon2 = Ut.generate_polygon(coordinates, 4326)\n",
    "# Looking at the region selected by the polygon\n",
    "\n",
    "Ut.show_on_map(polygon2, 15)"
   ]
  },
  {
   "cell_type": "code",
   "execution_count": null,
   "id": "c443cc1e",
   "metadata": {},
   "outputs": [],
   "source": []
  }
 ],
 "metadata": {
  "hide_input": false,
  "kernelspec": {
   "display_name": "Python 3 (ipykernel)",
   "language": "python",
   "name": "python3"
  },
  "language_info": {
   "codemirror_mode": {
    "name": "ipython",
    "version": 3
   },
   "file_extension": ".py",
   "mimetype": "text/x-python",
   "name": "python",
   "nbconvert_exporter": "python",
   "pygments_lexer": "ipython3",
   "version": "3.10.5"
  },
  "latex_envs": {
   "LaTeX_envs_menu_present": true,
   "autoclose": false,
   "autocomplete": true,
   "bibliofile": "biblio.bib",
   "cite_by": "apalike",
   "current_citInitial": 1,
   "eqLabelWithNumbers": true,
   "eqNumInitial": 1,
   "hotkeys": {
    "equation": "Ctrl-E",
    "itemize": "Ctrl-I"
   },
   "labels_anchors": false,
   "latex_user_defs": false,
   "report_style_numbering": false,
   "user_envs_cfg": false
  }
 },
 "nbformat": 4,
 "nbformat_minor": 5
}
