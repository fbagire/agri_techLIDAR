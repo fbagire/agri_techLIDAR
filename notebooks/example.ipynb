{
 "cells": [
  {
   "cell_type": "code",
   "execution_count": 4,
   "id": "5c515649",
   "metadata": {},
   "outputs": [],
   "source": [
    "import sys\n",
    "import os\n",
    "sys.path.append(os.path.abspath(os.path.join('../scripts/')))"
   ]
  },
  {
   "cell_type": "code",
   "execution_count": 8,
   "id": "6e51dc1c",
   "metadata": {},
   "outputs": [],
   "source": [
    "from util import Util"
   ]
  },
  {
   "cell_type": "code",
   "execution_count": 9,
   "id": "f8184b7c",
   "metadata": {},
   "outputs": [],
   "source": [
    "from pypoint import Pypoint"
   ]
  },
  {
   "cell_type": "code",
   "execution_count": 11,
   "id": "15e37021",
   "metadata": {},
   "outputs": [],
   "source": [
    "Ut = Util()\n",
    "Pp = Pypoint()\n",
    "\n",
    "# import data\n",
    "pipeline_path = \"../pipe.json\"\n",
    "# metadata_path = \"../data/metadata.json\"\n",
    "save_path = \"../data\""
   ]
  },
  {
   "cell_type": "code",
   "execution_count": null,
   "id": "8dc5e62f",
   "metadata": {},
   "outputs": [],
   "source": []
  }
 ],
 "metadata": {
  "hide_input": false,
  "kernelspec": {
   "display_name": "Python 3 (ipykernel)",
   "language": "python",
   "name": "python3"
  },
  "language_info": {
   "codemirror_mode": {
    "name": "ipython",
    "version": 3
   },
   "file_extension": ".py",
   "mimetype": "text/x-python",
   "name": "python",
   "nbconvert_exporter": "python",
   "pygments_lexer": "ipython3",
   "version": "3.10.5"
  },
  "latex_envs": {
   "LaTeX_envs_menu_present": true,
   "autoclose": false,
   "autocomplete": true,
   "bibliofile": "biblio.bib",
   "cite_by": "apalike",
   "current_citInitial": 1,
   "eqLabelWithNumbers": true,
   "eqNumInitial": 1,
   "hotkeys": {
    "equation": "Ctrl-E",
    "itemize": "Ctrl-I"
   },
   "labels_anchors": false,
   "latex_user_defs": false,
   "report_style_numbering": false,
   "user_envs_cfg": false
  }
 },
 "nbformat": 4,
 "nbformat_minor": 5
}
